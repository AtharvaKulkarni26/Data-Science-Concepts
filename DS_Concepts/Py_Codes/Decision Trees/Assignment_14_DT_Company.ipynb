{
 "cells": [
  {
   "cell_type": "markdown",
   "metadata": {},
   "source": [
    "## Decision Tree \n",
    "### Company Data"
   ]
  },
  {
   "cell_type": "code",
   "execution_count": 1,
   "metadata": {},
   "outputs": [],
   "source": [
    "# A cloth manufacturing company is interested to know about the segment or attributes causes high sale. \n",
    "# Approach - A decision tree can be built with target variable Sale (we will first convert it in categorical variable) & all other variable will be independent in the analysis.  \n"
   ]
  },
  {
   "cell_type": "code",
   "execution_count": 2,
   "metadata": {},
   "outputs": [],
   "source": [
    "import pandas as pd\n",
    "import matplotlib.pyplot as plt\n",
    "from sklearn import datasets  \n",
    "import numpy as np\n",
    "from sklearn.model_selection import train_test_split\n",
    "from sklearn.tree import DecisionTreeClassifier\n",
    "from sklearn import tree\n",
    "from sklearn.metrics import classification_report\n",
    "from sklearn import preprocessing"
   ]
  },
  {
   "cell_type": "code",
   "execution_count": 4,
   "metadata": {},
   "outputs": [
    {
     "data": {
      "text/html": [
       "<div>\n",
       "<style scoped>\n",
       "    .dataframe tbody tr th:only-of-type {\n",
       "        vertical-align: middle;\n",
       "    }\n",
       "\n",
       "    .dataframe tbody tr th {\n",
       "        vertical-align: top;\n",
       "    }\n",
       "\n",
       "    .dataframe thead th {\n",
       "        text-align: right;\n",
       "    }\n",
       "</style>\n",
       "<table border=\"1\" class=\"dataframe\">\n",
       "  <thead>\n",
       "    <tr style=\"text-align: right;\">\n",
       "      <th></th>\n",
       "      <th>Sales</th>\n",
       "      <th>CompPrice</th>\n",
       "      <th>Income</th>\n",
       "      <th>Advertising</th>\n",
       "      <th>Population</th>\n",
       "      <th>Price</th>\n",
       "      <th>ShelveLoc</th>\n",
       "      <th>Age</th>\n",
       "      <th>Education</th>\n",
       "      <th>Urban</th>\n",
       "      <th>US</th>\n",
       "    </tr>\n",
       "  </thead>\n",
       "  <tbody>\n",
       "    <tr>\n",
       "      <th>0</th>\n",
       "      <td>9.50</td>\n",
       "      <td>138</td>\n",
       "      <td>73</td>\n",
       "      <td>11</td>\n",
       "      <td>276</td>\n",
       "      <td>120</td>\n",
       "      <td>Bad</td>\n",
       "      <td>42</td>\n",
       "      <td>17</td>\n",
       "      <td>Yes</td>\n",
       "      <td>Yes</td>\n",
       "    </tr>\n",
       "    <tr>\n",
       "      <th>1</th>\n",
       "      <td>11.22</td>\n",
       "      <td>111</td>\n",
       "      <td>48</td>\n",
       "      <td>16</td>\n",
       "      <td>260</td>\n",
       "      <td>83</td>\n",
       "      <td>Good</td>\n",
       "      <td>65</td>\n",
       "      <td>10</td>\n",
       "      <td>Yes</td>\n",
       "      <td>Yes</td>\n",
       "    </tr>\n",
       "    <tr>\n",
       "      <th>2</th>\n",
       "      <td>10.06</td>\n",
       "      <td>113</td>\n",
       "      <td>35</td>\n",
       "      <td>10</td>\n",
       "      <td>269</td>\n",
       "      <td>80</td>\n",
       "      <td>Medium</td>\n",
       "      <td>59</td>\n",
       "      <td>12</td>\n",
       "      <td>Yes</td>\n",
       "      <td>Yes</td>\n",
       "    </tr>\n",
       "    <tr>\n",
       "      <th>3</th>\n",
       "      <td>7.40</td>\n",
       "      <td>117</td>\n",
       "      <td>100</td>\n",
       "      <td>4</td>\n",
       "      <td>466</td>\n",
       "      <td>97</td>\n",
       "      <td>Medium</td>\n",
       "      <td>55</td>\n",
       "      <td>14</td>\n",
       "      <td>Yes</td>\n",
       "      <td>Yes</td>\n",
       "    </tr>\n",
       "    <tr>\n",
       "      <th>4</th>\n",
       "      <td>4.15</td>\n",
       "      <td>141</td>\n",
       "      <td>64</td>\n",
       "      <td>3</td>\n",
       "      <td>340</td>\n",
       "      <td>128</td>\n",
       "      <td>Bad</td>\n",
       "      <td>38</td>\n",
       "      <td>13</td>\n",
       "      <td>Yes</td>\n",
       "      <td>No</td>\n",
       "    </tr>\n",
       "  </tbody>\n",
       "</table>\n",
       "</div>"
      ],
      "text/plain": [
       "   Sales  CompPrice  Income  Advertising  Population  Price ShelveLoc  Age  \\\n",
       "0   9.50        138      73           11         276    120       Bad   42   \n",
       "1  11.22        111      48           16         260     83      Good   65   \n",
       "2  10.06        113      35           10         269     80    Medium   59   \n",
       "3   7.40        117     100            4         466     97    Medium   55   \n",
       "4   4.15        141      64            3         340    128       Bad   38   \n",
       "\n",
       "   Education Urban   US  \n",
       "0         17   Yes  Yes  \n",
       "1         10   Yes  Yes  \n",
       "2         12   Yes  Yes  \n",
       "3         14   Yes  Yes  \n",
       "4         13   Yes   No  "
      ]
     },
     "execution_count": 4,
     "metadata": {},
     "output_type": "execute_result"
    }
   ],
   "source": [
    "company = pd.read_csv('Company_Data.csv')\n",
    "company.head()"
   ]
  },
  {
   "cell_type": "code",
   "execution_count": 5,
   "metadata": {},
   "outputs": [],
   "source": [
    "#Creating dummy vairables\n",
    "company=pd.get_dummies(company,columns=['ShelveLoc','Urban','US'], drop_first=True)"
   ]
  },
  {
   "cell_type": "code",
   "execution_count": 6,
   "metadata": {},
   "outputs": [],
   "source": [
    "cut_labels=['Low','Medium','High']\n",
    "cut_bins=[-1,5.66,12,17]\n",
    "company['sales']=pd.cut(company['Sales'],labels=cut_labels,bins=cut_bins)"
   ]
  },
  {
   "cell_type": "code",
   "execution_count": 7,
   "metadata": {},
   "outputs": [
    {
     "data": {
      "text/html": [
       "<div>\n",
       "<style scoped>\n",
       "    .dataframe tbody tr th:only-of-type {\n",
       "        vertical-align: middle;\n",
       "    }\n",
       "\n",
       "    .dataframe tbody tr th {\n",
       "        vertical-align: top;\n",
       "    }\n",
       "\n",
       "    .dataframe thead th {\n",
       "        text-align: right;\n",
       "    }\n",
       "</style>\n",
       "<table border=\"1\" class=\"dataframe\">\n",
       "  <thead>\n",
       "    <tr style=\"text-align: right;\">\n",
       "      <th></th>\n",
       "      <th>Sales</th>\n",
       "      <th>CompPrice</th>\n",
       "      <th>Income</th>\n",
       "      <th>Advertising</th>\n",
       "      <th>Population</th>\n",
       "      <th>Price</th>\n",
       "      <th>Age</th>\n",
       "      <th>Education</th>\n",
       "      <th>ShelveLoc_Good</th>\n",
       "      <th>ShelveLoc_Medium</th>\n",
       "      <th>Urban_Yes</th>\n",
       "      <th>US_Yes</th>\n",
       "      <th>sales</th>\n",
       "    </tr>\n",
       "  </thead>\n",
       "  <tbody>\n",
       "    <tr>\n",
       "      <th>0</th>\n",
       "      <td>9.50</td>\n",
       "      <td>138</td>\n",
       "      <td>73</td>\n",
       "      <td>11</td>\n",
       "      <td>276</td>\n",
       "      <td>120</td>\n",
       "      <td>42</td>\n",
       "      <td>17</td>\n",
       "      <td>0</td>\n",
       "      <td>0</td>\n",
       "      <td>1</td>\n",
       "      <td>1</td>\n",
       "      <td>Medium</td>\n",
       "    </tr>\n",
       "    <tr>\n",
       "      <th>1</th>\n",
       "      <td>11.22</td>\n",
       "      <td>111</td>\n",
       "      <td>48</td>\n",
       "      <td>16</td>\n",
       "      <td>260</td>\n",
       "      <td>83</td>\n",
       "      <td>65</td>\n",
       "      <td>10</td>\n",
       "      <td>1</td>\n",
       "      <td>0</td>\n",
       "      <td>1</td>\n",
       "      <td>1</td>\n",
       "      <td>Medium</td>\n",
       "    </tr>\n",
       "    <tr>\n",
       "      <th>2</th>\n",
       "      <td>10.06</td>\n",
       "      <td>113</td>\n",
       "      <td>35</td>\n",
       "      <td>10</td>\n",
       "      <td>269</td>\n",
       "      <td>80</td>\n",
       "      <td>59</td>\n",
       "      <td>12</td>\n",
       "      <td>0</td>\n",
       "      <td>1</td>\n",
       "      <td>1</td>\n",
       "      <td>1</td>\n",
       "      <td>Medium</td>\n",
       "    </tr>\n",
       "    <tr>\n",
       "      <th>3</th>\n",
       "      <td>7.40</td>\n",
       "      <td>117</td>\n",
       "      <td>100</td>\n",
       "      <td>4</td>\n",
       "      <td>466</td>\n",
       "      <td>97</td>\n",
       "      <td>55</td>\n",
       "      <td>14</td>\n",
       "      <td>0</td>\n",
       "      <td>1</td>\n",
       "      <td>1</td>\n",
       "      <td>1</td>\n",
       "      <td>Medium</td>\n",
       "    </tr>\n",
       "    <tr>\n",
       "      <th>4</th>\n",
       "      <td>4.15</td>\n",
       "      <td>141</td>\n",
       "      <td>64</td>\n",
       "      <td>3</td>\n",
       "      <td>340</td>\n",
       "      <td>128</td>\n",
       "      <td>38</td>\n",
       "      <td>13</td>\n",
       "      <td>0</td>\n",
       "      <td>0</td>\n",
       "      <td>1</td>\n",
       "      <td>0</td>\n",
       "      <td>Low</td>\n",
       "    </tr>\n",
       "  </tbody>\n",
       "</table>\n",
       "</div>"
      ],
      "text/plain": [
       "   Sales  CompPrice  Income  Advertising  Population  Price  Age  Education  \\\n",
       "0   9.50        138      73           11         276    120   42         17   \n",
       "1  11.22        111      48           16         260     83   65         10   \n",
       "2  10.06        113      35           10         269     80   59         12   \n",
       "3   7.40        117     100            4         466     97   55         14   \n",
       "4   4.15        141      64            3         340    128   38         13   \n",
       "\n",
       "   ShelveLoc_Good  ShelveLoc_Medium  Urban_Yes  US_Yes   sales  \n",
       "0               0                 0          1       1  Medium  \n",
       "1               1                 0          1       1  Medium  \n",
       "2               0                 1          1       1  Medium  \n",
       "3               0                 1          1       1  Medium  \n",
       "4               0                 0          1       0     Low  "
      ]
     },
     "execution_count": 7,
     "metadata": {},
     "output_type": "execute_result"
    }
   ],
   "source": [
    "company.head()"
   ]
  },
  {
   "cell_type": "code",
   "execution_count": 8,
   "metadata": {},
   "outputs": [],
   "source": [
    "X = company.iloc[:,1:12]\n",
    "Y = company.iloc[:,-1]"
   ]
  },
  {
   "cell_type": "code",
   "execution_count": 9,
   "metadata": {},
   "outputs": [],
   "source": [
    "# Splitting data into train & test\n",
    "Xtrain, Xtest, Ytrain, Ytest = train_test_split(X, Y, test_size=0.3, random_state=0)"
   ]
  },
  {
   "cell_type": "code",
   "execution_count": 10,
   "metadata": {},
   "outputs": [
    {
     "data": {
      "text/plain": [
       "DecisionTreeClassifier(criterion='entropy')"
      ]
     },
     "execution_count": 10,
     "metadata": {},
     "output_type": "execute_result"
    }
   ],
   "source": [
    "model = DecisionTreeClassifier(criterion = 'entropy')\n",
    "model.fit(Xtrain,Ytrain)"
   ]
  },
  {
   "cell_type": "code",
   "execution_count": 11,
   "metadata": {},
   "outputs": [
    {
     "data": {
      "text/plain": [
       "array(['Low', 'Low', 'Medium', 'High', 'Medium', 'Medium', 'Low',\n",
       "       'Medium', 'Medium', 'Medium', 'Medium', 'Low', 'Medium', 'Medium',\n",
       "       'Medium', 'Medium', 'Medium', 'Medium', 'Low', 'High', 'Medium',\n",
       "       'Medium', 'High', 'Medium', 'Medium', 'Low', 'Low', 'Medium',\n",
       "       'Low', 'Low', 'Low', 'Medium', 'Medium', 'Medium', 'Low', 'Low',\n",
       "       'Medium', 'Medium', 'Low', 'Medium', 'Medium', 'Medium', 'Medium',\n",
       "       'Medium', 'Low', 'Low', 'Medium', 'Medium', 'Medium', 'Medium',\n",
       "       'Medium', 'Medium', 'Low', 'Medium', 'Low', 'Medium', 'Low',\n",
       "       'High', 'Medium', 'Medium', 'Low', 'High', 'Medium', 'Low',\n",
       "       'Medium', 'Low', 'Medium', 'Medium', 'Medium', 'Low', 'Low', 'Low',\n",
       "       'High', 'Low', 'Medium', 'Low', 'Medium', 'High', 'High', 'Medium',\n",
       "       'Medium', 'Medium', 'Medium', 'Medium', 'Medium', 'Medium', 'Low',\n",
       "       'Medium', 'Medium', 'Low', 'Medium', 'Medium', 'Medium', 'Low',\n",
       "       'High', 'Low', 'Medium', 'Medium', 'Medium', 'Medium', 'Medium',\n",
       "       'Medium', 'Low', 'High', 'Medium', 'Medium', 'Low', 'Low',\n",
       "       'Medium', 'Medium', 'High', 'Medium', 'Medium', 'Medium', 'Low',\n",
       "       'Low', 'Low', 'Low', 'Low', 'High', 'Medium', 'Medium', 'Medium',\n",
       "       'Medium', 'Medium', 'Medium', 'Medium', 'Medium', 'Medium',\n",
       "       'Medium', 'Medium', 'Low', 'Medium', 'Medium', 'Medium', 'Medium',\n",
       "       'Medium', 'High', 'Medium', 'Medium', 'Low', 'Medium', 'Medium',\n",
       "       'Medium', 'Low', 'Medium', 'Medium', 'Medium', 'Medium', 'Medium',\n",
       "       'Medium', 'Medium', 'Medium', 'Low', 'Low', 'Medium', 'Low',\n",
       "       'Medium', 'Medium', 'Medium', 'Medium', 'Medium', 'Low', 'Low',\n",
       "       'Medium', 'Medium', 'Low', 'Low', 'Medium', 'High', 'Medium',\n",
       "       'Medium', 'Medium', 'Low', 'Low', 'Medium', 'Medium', 'Medium',\n",
       "       'Low', 'Medium', 'Medium', 'Medium', 'High', 'Medium', 'Medium',\n",
       "       'Low', 'Medium', 'Medium', 'Low', 'Medium', 'Medium', 'Medium',\n",
       "       'Medium', 'Low', 'Medium', 'Low', 'Medium', 'Medium', 'Low', 'Low',\n",
       "       'Medium', 'High', 'Medium', 'Medium', 'Low', 'Low', 'Low',\n",
       "       'Medium', 'Low', 'Medium', 'Low', 'Medium', 'Medium', 'Medium',\n",
       "       'Medium', 'Low', 'Medium', 'Medium', 'Medium', 'Medium', 'Low',\n",
       "       'Medium', 'Medium', 'Medium', 'Medium', 'Medium', 'Medium', 'Low',\n",
       "       'Medium', 'Low', 'Low', 'Medium', 'Medium', 'Medium', 'Low',\n",
       "       'Medium', 'Medium', 'Medium', 'Medium', 'Medium', 'Medium', 'Low',\n",
       "       'Medium', 'Medium', 'Medium', 'Medium', 'Low', 'Medium', 'Medium',\n",
       "       'Low', 'Medium', 'Medium', 'Low', 'Low', 'Medium', 'High', 'Low',\n",
       "       'Medium', 'High', 'Low', 'Low', 'Low', 'High', 'Medium', 'Medium',\n",
       "       'Medium', 'Medium', 'Medium', 'Low', 'Medium', 'Medium', 'Low',\n",
       "       'Low', 'Low', 'Low', 'Medium', 'Medium', 'Medium', 'Low', 'Medium'],\n",
       "      dtype=object)"
      ]
     },
     "execution_count": 11,
     "metadata": {},
     "output_type": "execute_result"
    }
   ],
   "source": [
    "pred_train = model.predict(Xtrain)\n",
    "pred_train"
   ]
  },
  {
   "cell_type": "code",
   "execution_count": 12,
   "metadata": {},
   "outputs": [],
   "source": [
    "#Predicting on test data\n",
    "preds = model.predict(Xtest)"
   ]
  },
  {
   "cell_type": "code",
   "execution_count": 13,
   "metadata": {},
   "outputs": [
    {
     "data": {
      "text/plain": [
       "array(['Medium', 'Medium', 'Medium', 'Low', 'Low', 'Low', 'Medium',\n",
       "       'Medium', 'Medium', 'Low', 'Medium', 'Medium', 'Low', 'High',\n",
       "       'Medium', 'Medium', 'High', 'Medium', 'Low', 'Medium', 'Low',\n",
       "       'Medium', 'Medium', 'Medium', 'Low', 'Medium', 'Low', 'Low',\n",
       "       'Medium', 'Medium', 'Medium', 'Medium', 'Medium', 'Medium', 'Low',\n",
       "       'Medium', 'Medium', 'Medium', 'Medium', 'Medium', 'Medium', 'High',\n",
       "       'Low', 'Medium', 'Low', 'Medium', 'Medium', 'Medium', 'Medium',\n",
       "       'Medium', 'Low', 'Medium', 'Medium', 'Medium', 'Low', 'Medium',\n",
       "       'Medium', 'Medium', 'Medium', 'Low', 'Medium', 'High', 'Medium',\n",
       "       'Low', 'Low', 'Medium', 'Medium', 'Medium', 'Medium', 'Medium',\n",
       "       'Medium', 'Medium', 'High', 'Medium', 'Medium', 'Medium', 'Medium',\n",
       "       'High', 'Medium', 'Medium', 'Low', 'Medium', 'Low', 'Medium',\n",
       "       'High', 'Medium', 'Medium', 'Medium', 'High', 'High', 'Medium',\n",
       "       'Medium', 'Medium', 'Low', 'Medium', 'Low', 'Medium', 'Low',\n",
       "       'Medium', 'High', 'Low', 'Medium', 'Low', 'Medium', 'Medium',\n",
       "       'Medium', 'Medium', 'Medium', 'Low', 'Medium', 'Medium', 'Medium',\n",
       "       'Medium', 'Medium', 'Low', 'Medium', 'Low', 'Medium', 'Medium',\n",
       "       'Low'], dtype=object)"
      ]
     },
     "execution_count": 13,
     "metadata": {},
     "output_type": "execute_result"
    }
   ],
   "source": [
    "preds"
   ]
  },
  {
   "cell_type": "code",
   "execution_count": 14,
   "metadata": {},
   "outputs": [
    {
     "data": {
      "text/plain": [
       "1.0"
      ]
     },
     "execution_count": 14,
     "metadata": {},
     "output_type": "execute_result"
    }
   ],
   "source": [
    "#train Accuracy\n",
    "np.mean(pred_train==Ytrain)"
   ]
  },
  {
   "cell_type": "code",
   "execution_count": 15,
   "metadata": {},
   "outputs": [
    {
     "data": {
      "text/plain": [
       "0.6833333333333333"
      ]
     },
     "execution_count": 15,
     "metadata": {},
     "output_type": "execute_result"
    }
   ],
   "source": [
    "# test Accuracy \n",
    "np.mean(preds==Ytest)"
   ]
  },
  {
   "cell_type": "code",
   "execution_count": null,
   "metadata": {},
   "outputs": [],
   "source": []
  }
 ],
 "metadata": {
  "kernelspec": {
   "display_name": "Python 3",
   "language": "python",
   "name": "python3"
  },
  "language_info": {
   "codemirror_mode": {
    "name": "ipython",
    "version": 3
   },
   "file_extension": ".py",
   "mimetype": "text/x-python",
   "name": "python",
   "nbconvert_exporter": "python",
   "pygments_lexer": "ipython3",
   "version": "3.8.5"
  }
 },
 "nbformat": 4,
 "nbformat_minor": 4
}
